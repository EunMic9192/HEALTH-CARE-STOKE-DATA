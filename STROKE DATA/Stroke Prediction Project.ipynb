{
 "cells": [
  {
   "cell_type": "code",
   "execution_count": 188,
   "id": "80dfdf1a-2c18-4209-b709-d0a2e741cf26",
   "metadata": {},
   "outputs": [],
   "source": [
    "#TITLE : StrokeGuard: Machine Learning-Based Stroke Risk Prediction Analysis"
   ]
  },
  {
   "cell_type": "code",
   "execution_count": 4,
   "id": "dbf2d1ba-7912-4dee-962b-10817fe930db",
   "metadata": {},
   "outputs": [],
   "source": [
    "#Project Overview\n",
    "#Problem Statement\n",
    "#Dataset Description\n",
    "#Project Goals"
   ]
  },
  {
   "cell_type": "code",
   "execution_count": 6,
   "id": "21eab1e6-ad09-4608-9af3-7af2d1282a29",
   "metadata": {},
   "outputs": [],
   "source": [
    "#2 Data Analysis Pipeline"
   ]
  },
  {
   "cell_type": "code",
   "execution_count": 8,
   "id": "cec8bf7a-dc2e-46b7-bd4b-06ff7c98e727",
   "metadata": {},
   "outputs": [],
   "source": [
    "# Import necessary libraries\n",
    "import pandas as pd\n",
    "import numpy as np\n",
    "import matplotlib.pyplot as plt\n",
    "import seaborn as sns\n",
    "from scipy import stats"
   ]
  },
  {
   "cell_type": "code",
   "execution_count": 9,
   "id": "067b13ef-2c83-4d2f-a7f5-af12ca992f29",
   "metadata": {},
   "outputs": [],
   "source": [
    "# Set display options for better output readability\n",
    "pd.set_option('display.max_columns', None)\n",
    "pd.set_option('display.width', None)"
   ]
  },
  {
   "cell_type": "code",
   "execution_count": 12,
   "id": "065a1ee6-7447-4cd5-b8e8-44c444aef9fb",
   "metadata": {},
   "outputs": [],
   "source": [
    "# Load the dataset\n",
    "df = pd.read_csv('healthcare-dataset-stroke-data.csv')\n"
   ]
  },
  {
   "cell_type": "code",
   "execution_count": 250,
   "id": "a653ad65-b7ad-4ff7-b84e-7057a2a95069",
   "metadata": {},
   "outputs": [
    {
     "name": "stdout",
     "output_type": "stream",
     "text": [
      "Dataset Shape: (5110, 12)\n",
      "\n",
      "First few rows of the dataset:\n",
      "      id  gender   age  hypertension  heart_disease ever_married  \\\n",
      "0   9046    Male  67.0             0              1          Yes   \n",
      "1  51676  Female  61.0             0              0          Yes   \n",
      "2  31112    Male  80.0             0              1          Yes   \n",
      "3  60182  Female  49.0             0              0          Yes   \n",
      "4   1665  Female  79.0             1              0          Yes   \n",
      "\n",
      "       work_type Residence_type  avg_glucose_level   bmi   smoking_status  \\\n",
      "0        Private          Urban             228.69  36.6  formerly smoked   \n",
      "1  Self-employed          Rural             202.21   NaN     never smoked   \n",
      "2        Private          Rural             105.92  32.5     never smoked   \n",
      "3        Private          Urban             171.23  34.4           smokes   \n",
      "4  Self-employed          Rural             174.12  24.0     never smoked   \n",
      "\n",
      "   stroke  \n",
      "0       1  \n",
      "1       1  \n",
      "2       1  \n",
      "3       1  \n",
      "4       1  \n"
     ]
    }
   ],
   "source": [
    "# Display basic information about the dataset\n",
    "print(\"Dataset Shape:\", df.shape)\n",
    "print(\"\\nFirst few rows of the dataset:\")\n",
    "print(df.head())"
   ]
  },
  {
   "cell_type": "code",
   "execution_count": 252,
   "id": "e2e2a227-5123-4883-84a4-fd0c31cbca8b",
   "metadata": {},
   "outputs": [
    {
     "name": "stdout",
     "output_type": "stream",
     "text": [
      "\n",
      "Dataset Information:\n",
      "<class 'pandas.core.frame.DataFrame'>\n",
      "RangeIndex: 5110 entries, 0 to 5109\n",
      "Data columns (total 12 columns):\n",
      " #   Column             Non-Null Count  Dtype  \n",
      "---  ------             --------------  -----  \n",
      " 0   id                 5110 non-null   int64  \n",
      " 1   gender             5110 non-null   object \n",
      " 2   age                5110 non-null   float64\n",
      " 3   hypertension       5110 non-null   int64  \n",
      " 4   heart_disease      5110 non-null   int64  \n",
      " 5   ever_married       5110 non-null   object \n",
      " 6   work_type          5110 non-null   object \n",
      " 7   Residence_type     5110 non-null   object \n",
      " 8   avg_glucose_level  5110 non-null   float64\n",
      " 9   bmi                4909 non-null   float64\n",
      " 10  smoking_status     5110 non-null   object \n",
      " 11  stroke             5110 non-null   int64  \n",
      "dtypes: float64(3), int64(4), object(5)\n",
      "memory usage: 479.2+ KB\n",
      "None\n"
     ]
    }
   ],
   "source": [
    "print(\"\\nDataset Information:\")\n",
    "print(df.info())"
   ]
  },
  {
   "cell_type": "code",
   "execution_count": 254,
   "id": "5be8cf33-3ebc-4a66-9623-9cf1837bdc5c",
   "metadata": {},
   "outputs": [
    {
     "name": "stdout",
     "output_type": "stream",
     "text": [
      "\n",
      "Basic statistical summary:\n",
      "                 id          age  hypertension  heart_disease  \\\n",
      "count   5110.000000  5110.000000   5110.000000    5110.000000   \n",
      "mean   36517.829354    43.226614      0.097456       0.054012   \n",
      "std    21161.721625    22.612647      0.296607       0.226063   \n",
      "min       67.000000     0.080000      0.000000       0.000000   \n",
      "25%    17741.250000    25.000000      0.000000       0.000000   \n",
      "50%    36932.000000    45.000000      0.000000       0.000000   \n",
      "75%    54682.000000    61.000000      0.000000       0.000000   \n",
      "max    72940.000000    82.000000      1.000000       1.000000   \n",
      "\n",
      "       avg_glucose_level          bmi       stroke  \n",
      "count        5110.000000  4909.000000  5110.000000  \n",
      "mean          106.147677    28.893237     0.048728  \n",
      "std            45.283560     7.854067     0.215320  \n",
      "min            55.120000    10.300000     0.000000  \n",
      "25%            77.245000    23.500000     0.000000  \n",
      "50%            91.885000    28.100000     0.000000  \n",
      "75%           114.090000    33.100000     0.000000  \n",
      "max           271.740000    97.600000     1.000000  \n"
     ]
    }
   ],
   "source": [
    "print(\"\\nBasic statistical summary:\")\n",
    "print(df.describe())\n"
   ]
  },
  {
   "cell_type": "code",
   "execution_count": 18,
   "id": "78ee6f1e-48b7-4338-bd7a-258b2bd47537",
   "metadata": {},
   "outputs": [
    {
     "name": "stdout",
     "output_type": "stream",
     "text": [
      "\n",
      "Missing values in each column:\n",
      "id                     0\n",
      "gender                 0\n",
      "age                    0\n",
      "hypertension           0\n",
      "heart_disease          0\n",
      "ever_married           0\n",
      "work_type              0\n",
      "Residence_type         0\n",
      "avg_glucose_level      0\n",
      "bmi                  201\n",
      "smoking_status         0\n",
      "stroke                 0\n",
      "dtype: int64\n",
      "\n",
      "Checking for memory usage:\n",
      "Index                   132\n",
      "id                    40880\n",
      "gender               276819\n",
      "age                   40880\n",
      "hypertension          40880\n",
      "heart_disease         40880\n",
      "ever_married          40880\n",
      "work_type            292528\n",
      "Residence_type       275940\n",
      "avg_glucose_level     40880\n",
      "bmi                   40880\n",
      "smoking_status       301911\n",
      "stroke                40880\n",
      "dtype: int64\n"
     ]
    }
   ],
   "source": [
    "# Check for missing values\n",
    "print(\"\\nMissing values in each column:\")\n",
    "print(df.isnull().sum())\n",
    "print(\"\\nChecking for memory usage:\")\n",
    "print(df.memory_usage(deep=True))"
   ]
  },
  {
   "cell_type": "code",
   "execution_count": 20,
   "id": "e66c71bb-7cbc-4eed-aa7d-ca7b55a79936",
   "metadata": {},
   "outputs": [
    {
     "name": "stdout",
     "output_type": "stream",
     "text": [
      "\n",
      "BMI Statistics after imputation:\n",
      "count    4909.000000\n",
      "mean       28.893237\n",
      "std         7.854067\n",
      "min        10.300000\n",
      "25%        23.500000\n",
      "50%        28.100000\n",
      "75%        33.100000\n",
      "max        97.600000\n",
      "Name: bmi, dtype: float64\n"
     ]
    }
   ],
   "source": [
    "def verify_imputation(df):\n",
    "    \"\"\"\n",
    "    Function to verify BMI imputation results\n",
    "    \"\"\"\n",
    "    print(\"\\nBMI Statistics after imputation:\")\n",
    "    print(df['bmi'].describe())\n",
    "\n",
    "# Ensure df is defined before calling the function\n",
    "verify_imputation(df)\n"
   ]
  },
  {
   "cell_type": "code",
   "execution_count": null,
   "id": "dc928517-03f8-4544-9988-afc88f5baa76",
   "metadata": {},
   "outputs": [],
   "source": [
    "# Perform the preprocessing steps\n",
    "# Convert binary categorical variables to numeric\n",
    "\n",
    "binary_map = {'Yes': 1, 'No': 0}\n",
    "\n",
    "# Ensure the column exists before mapping\n",
    "if 'ever_married' in df.columns:\n",
    "    df['ever_married'] = df['ever_married'].map(binary_map)\n",
    "\n",
    "# If there are unexpected values, replace them with NaN\n",
    "df['ever_married'] = df['ever_married'].apply(lambda x: binary_map.get(x, None))\n"
   ]
  },
  {
   "cell_type": "code",
   "execution_count": 22,
   "id": "97e528d2-c445-4c42-a268-cdb287c24958",
   "metadata": {},
   "outputs": [],
   "source": [
    "# Convert categorical variables to category type\n",
    "categorical_columns = ['gender', 'work_type', 'Residence_type', 'smoking_status']\n",
    "\n",
    "# Ensure each column exists before converting\n",
    "for col in categorical_columns:\n",
    "    if col in df.columns:\n",
    "        df[col] = df[col].astype('category')\n"
   ]
  },
  {
   "cell_type": "code",
   "execution_count": 32,
   "id": "d188d218-e225-4be9-aee0-db5604e439a3",
   "metadata": {},
   "outputs": [],
   "source": [
    "from sklearn.impute import SimpleImputer\n",
    "\n",
    "# Handle missing values in BMI\n",
    "if 'bmi' in df.columns:\n",
    "    bmi_imputer = SimpleImputer(strategy='median')\n",
    "    df[['bmi']] = bmi_imputer.fit_transform(df[['bmi']])  # Keep DataFrame structure\n"
   ]
  },
  {
   "cell_type": "code",
   "execution_count": 34,
   "id": "4c189cf9-e959-4371-9f22-6a4360ae63d3",
   "metadata": {},
   "outputs": [
    {
     "name": "stdout",
     "output_type": "stream",
     "text": [
      "All missing BMI values have been successfully imputed.\n"
     ]
    }
   ],
   "source": [
    "# Verify if missing BMI values have been handled\n",
    "missing_bmi_count = df['bmi'].isnull().sum()\n",
    "\n",
    "if missing_bmi_count == 0:\n",
    "    print(\"All missing BMI values have been successfully imputed.\")\n",
    "else:\n",
    "    print(f\"There are still {missing_bmi_count} missing BMI values.\")\n"
   ]
  },
  {
   "cell_type": "code",
   "execution_count": 38,
   "id": "9088ffe7-f037-4faf-97d8-a54b86fe3639",
   "metadata": {},
   "outputs": [
    {
     "name": "stdout",
     "output_type": "stream",
     "text": [
      "Final verification before saving:\n",
      "\n",
      "Dataset shape: (5110, 12)\n",
      "\n",
      "Columns and their types:\n",
      "id: int64\n",
      "gender: category\n",
      "age: float64\n",
      "hypertension: int64\n",
      "heart_disease: int64\n",
      "ever_married: int64\n",
      "work_type: category\n",
      "Residence_type: category\n",
      "avg_glucose_level: float64\n",
      "bmi: float64\n",
      "smoking_status: category\n",
      "stroke: int64\n"
     ]
    }
   ],
   "source": [
    "# First, let's verify our processed dataset one final time before saving\n",
    "print(\"Final verification before saving:\")\n",
    "print(\"\\nDataset shape:\", df.shape)\n",
    "print(\"\\nColumns and their types:\")\n",
    "for col in df.columns:\n",
    "    print(f\"{col}: {df[col].dtype}\")"
   ]
  },
  {
   "cell_type": "code",
   "execution_count": 40,
   "id": "2496e8d8-31b0-4637-90ba-e03a66b55968",
   "metadata": {},
   "outputs": [],
   "source": [
    "# Save the preprocessed dataset\n",
    "output_filename = 'stroke_data_preprocessed.csv'\n",
    "df.to_csv(output_filename, index=False)"
   ]
  },
  {
   "cell_type": "code",
   "execution_count": 42,
   "id": "b2ff9a4d-8587-401d-9ba6-2f037095f36e",
   "metadata": {},
   "outputs": [
    {
     "name": "stdout",
     "output_type": "stream",
     "text": [
      "\n",
      "Verification after saving:\n",
      "Original shape: (5110, 12)\n",
      "Saved file shape: (5110, 12)\n",
      "\n",
      "All columns present: True\n",
      "\n",
      "Dataset successfully saved as 'stroke_data_preprocessed.csv'\n"
     ]
    }
   ],
   "source": [
    "# Verify the saved file\n",
    "# Load it back to make sure it saved correctly\n",
    "df_verify = pd.read_csv(output_filename)\n",
    "\n",
    "print(\"\\nVerification after saving:\")\n",
    "print(\"Original shape:\", df.shape)\n",
    "print(\"Saved file shape:\", df_verify.shape)\n",
    "\n",
    "# Verify all columns are preserved\n",
    "print(\"\\nAll columns present:\", all(df.columns == df_verify.columns))\n",
    "\n",
    "print(f\"\\nDataset successfully saved as '{output_filename}'\")"
   ]
  },
  {
   "cell_type": "code",
   "execution_count": 272,
   "id": "36be51e5-4432-4c7c-ad8e-76b9f7fd12f4",
   "metadata": {},
   "outputs": [],
   "source": [
    "\n"
   ]
  }
 ],
 "metadata": {
  "kernelspec": {
   "display_name": "Python [conda env:base] *",
   "language": "python",
   "name": "conda-base-py"
  },
  "language_info": {
   "codemirror_mode": {
    "name": "ipython",
    "version": 3
   },
   "file_extension": ".py",
   "mimetype": "text/x-python",
   "name": "python",
   "nbconvert_exporter": "python",
   "pygments_lexer": "ipython3",
   "version": "3.12.7"
  }
 },
 "nbformat": 4,
 "nbformat_minor": 5
}
